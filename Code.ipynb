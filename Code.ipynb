{
 "cells": [
  {
   "cell_type": "code",
   "execution_count": 1,
   "id": "cada6c10",
   "metadata": {},
   "outputs": [],
   "source": [
    "import os, glob, pickle\n",
    "import numpy as np\n",
    "from sklearn.model_selection import train_test_split\n",
    "from sklearn.neural_network import MLPClassifier\n",
    "from sklearn.metrics import accuracy_score\n",
    "from tensorflow.keras.preprocessing import image"
   ]
  },
  {
   "cell_type": "code",
   "execution_count": 2,
   "id": "41077604",
   "metadata": {},
   "outputs": [
    {
     "name": "stdout",
     "output_type": "stream",
     "text": [
      "(808, 224, 224, 3) (808, 4)\n"
     ]
    }
   ],
   "source": [
    "import pandas as pd\n",
    "train_image = []\n",
    "train_y=[]\n",
    "names=['cats','dogs','horses','humans']\n",
    "for index, name in enumerate(names):\n",
    "    for file in glob.glob(name+\"\\\\*.jpg\"):\n",
    "        file_name=os.path.basename(file)\n",
    "        file_name=name+'/'+file_name\n",
    "        img = image.load_img(file_name,target_size=(224,224,3))\n",
    "        img = image.img_to_array(img)\n",
    "        img = img/255\n",
    "        train_image.append(img)\n",
    "        train_y.append(index)\n",
    "X = np.array(train_image)\n",
    "Y = np.array(train_y)\n",
    "Y = pd.Series(Y)\n",
    "Y = pd.get_dummies(Y)\n",
    "print(X.shape,Y.shape)"
   ]
  },
  {
   "cell_type": "code",
   "execution_count": 3,
   "id": "393dd1e6",
   "metadata": {},
   "outputs": [],
   "source": [
    "X_train, X_test, y_train, y_test = train_test_split(X, Y, random_state=42, test_size=0.1)"
   ]
  },
  {
   "cell_type": "code",
   "execution_count": 4,
   "id": "8d8ea0e7",
   "metadata": {},
   "outputs": [],
   "source": [
    "import keras\n",
    "model= keras.applications\n",
    "conv_model = model.VGG19(weights='imagenet',  include_top=False, input_shape=(224,224,3))"
   ]
  },
  {
   "cell_type": "code",
   "execution_count": 5,
   "id": "6cab8610",
   "metadata": {},
   "outputs": [
    {
     "name": "stdout",
     "output_type": "stream",
     "text": [
      "Model: \"functional_1\"\n",
      "_________________________________________________________________\n",
      "Layer (type)                 Output Shape              Param #   \n",
      "=================================================================\n",
      "input_1 (InputLayer)         [(None, 224, 224, 3)]     0         \n",
      "_________________________________________________________________\n",
      "block1_conv1 (Conv2D)        (None, 224, 224, 64)      1792      \n",
      "_________________________________________________________________\n",
      "block1_conv2 (Conv2D)        (None, 224, 224, 64)      36928     \n",
      "_________________________________________________________________\n",
      "block1_pool (MaxPooling2D)   (None, 112, 112, 64)      0         \n",
      "_________________________________________________________________\n",
      "block2_conv1 (Conv2D)        (None, 112, 112, 128)     73856     \n",
      "_________________________________________________________________\n",
      "block2_conv2 (Conv2D)        (None, 112, 112, 128)     147584    \n",
      "_________________________________________________________________\n",
      "block2_pool (MaxPooling2D)   (None, 56, 56, 128)       0         \n",
      "_________________________________________________________________\n",
      "block3_conv1 (Conv2D)        (None, 56, 56, 256)       295168    \n",
      "_________________________________________________________________\n",
      "block3_conv2 (Conv2D)        (None, 56, 56, 256)       590080    \n",
      "_________________________________________________________________\n",
      "block3_conv3 (Conv2D)        (None, 56, 56, 256)       590080    \n",
      "_________________________________________________________________\n",
      "block3_conv4 (Conv2D)        (None, 56, 56, 256)       590080    \n",
      "_________________________________________________________________\n",
      "block3_pool (MaxPooling2D)   (None, 28, 28, 256)       0         \n",
      "_________________________________________________________________\n",
      "block4_conv1 (Conv2D)        (None, 28, 28, 512)       1180160   \n",
      "_________________________________________________________________\n",
      "block4_conv2 (Conv2D)        (None, 28, 28, 512)       2359808   \n",
      "_________________________________________________________________\n",
      "block4_conv3 (Conv2D)        (None, 28, 28, 512)       2359808   \n",
      "_________________________________________________________________\n",
      "block4_conv4 (Conv2D)        (None, 28, 28, 512)       2359808   \n",
      "_________________________________________________________________\n",
      "block4_pool (MaxPooling2D)   (None, 14, 14, 512)       0         \n",
      "_________________________________________________________________\n",
      "block5_conv1 (Conv2D)        (None, 14, 14, 512)       2359808   \n",
      "_________________________________________________________________\n",
      "block5_conv2 (Conv2D)        (None, 14, 14, 512)       2359808   \n",
      "_________________________________________________________________\n",
      "block5_conv3 (Conv2D)        (None, 14, 14, 512)       2359808   \n",
      "_________________________________________________________________\n",
      "block5_conv4 (Conv2D)        (None, 14, 14, 512)       2359808   \n",
      "_________________________________________________________________\n",
      "block5_pool (MaxPooling2D)   (None, 7, 7, 512)         0         \n",
      "_________________________________________________________________\n",
      "flatten (Flatten)            (None, 25088)             0         \n",
      "_________________________________________________________________\n",
      "dense (Dense)                (None, 32)                802848    \n",
      "_________________________________________________________________\n",
      "dense_1 (Dense)              (None, 16)                528       \n",
      "_________________________________________________________________\n",
      "dense_2 (Dense)              (None, 8)                 136       \n",
      "_________________________________________________________________\n",
      "dense_3 (Dense)              (None, 4)                 36        \n",
      "=================================================================\n",
      "Total params: 20,827,932\n",
      "Trainable params: 20,827,932\n",
      "Non-trainable params: 0\n",
      "_________________________________________________________________\n"
     ]
    }
   ],
   "source": [
    "x = keras.layers.Flatten()(conv_model.output)\n",
    "x = keras.layers.Dense(32, activation='relu')(x)\n",
    "x = keras.layers.Dense(16, activation='relu')(x)\n",
    "x = keras.layers.Dense(8, activation='relu')(x)\n",
    "predictions = keras.layers.Dense(4, activation='sigmoid')(x)\n",
    "final_model_1 = keras.models.Model(inputs=conv_model.input, outputs=predictions)\n",
    "final_model_1.summary()"
   ]
  },
  {
   "cell_type": "code",
   "execution_count": 6,
   "id": "9dd1f7f8",
   "metadata": {},
   "outputs": [],
   "source": [
    "for layer in conv_model.layers:\n",
    "    layer.trainable = False"
   ]
  },
  {
   "cell_type": "code",
   "execution_count": 7,
   "id": "3e788a14",
   "metadata": {},
   "outputs": [],
   "source": [
    "conv_model.trainable = False\n",
    "\n",
    "final_model_1.compile(optimizer=\"adam\",  # Very low learning rate\n",
    "              loss='categorical_crossentropy', metrics=['accuracy'])"
   ]
  },
  {
   "cell_type": "code",
   "execution_count": 8,
   "id": "663a3a54",
   "metadata": {},
   "outputs": [
    {
     "name": "stdout",
     "output_type": "stream",
     "text": [
      "Epoch 1/10\n",
      "23/23 [==============================] - 167s 7s/step - loss: 0.9599 - accuracy: 0.5997 - val_loss: 0.6621 - val_accuracy: 0.6790\n",
      "Epoch 2/10\n",
      "23/23 [==============================] - 178s 8s/step - loss: 0.4088 - accuracy: 0.8459 - val_loss: 0.4780 - val_accuracy: 0.7407\n",
      "Epoch 3/10\n",
      "23/23 [==============================] - 159s 7s/step - loss: 0.2237 - accuracy: 0.9354 - val_loss: 0.3425 - val_accuracy: 0.9012\n",
      "Epoch 4/10\n",
      "23/23 [==============================] - 159s 7s/step - loss: 0.1029 - accuracy: 0.9876 - val_loss: 0.2454 - val_accuracy: 0.9012\n",
      "Epoch 5/10\n",
      "23/23 [==============================] - 157s 7s/step - loss: 0.0568 - accuracy: 0.9931 - val_loss: 0.2195 - val_accuracy: 0.8889\n",
      "Epoch 6/10\n",
      "23/23 [==============================] - 159s 7s/step - loss: 0.0231 - accuracy: 1.0000 - val_loss: 0.2171 - val_accuracy: 0.8889\n",
      "Epoch 7/10\n",
      "23/23 [==============================] - 157s 7s/step - loss: 0.0145 - accuracy: 1.0000 - val_loss: 0.1343 - val_accuracy: 0.9753\n",
      "Epoch 8/10\n",
      "23/23 [==============================] - 157s 7s/step - loss: 0.0064 - accuracy: 1.0000 - val_loss: 0.2048 - val_accuracy: 0.9012\n",
      "Epoch 9/10\n",
      "23/23 [==============================] - 156s 7s/step - loss: 0.0050 - accuracy: 1.0000 - val_loss: 0.1545 - val_accuracy: 0.9383\n",
      "Epoch 10/10\n",
      "23/23 [==============================] - 156s 7s/step - loss: 0.0031 - accuracy: 1.0000 - val_loss: 0.1409 - val_accuracy: 0.9383\n"
     ]
    },
    {
     "data": {
      "text/plain": [
       "<tensorflow.python.keras.callbacks.History at 0x2d14cd7cca0>"
      ]
     },
     "execution_count": 8,
     "metadata": {},
     "output_type": "execute_result"
    }
   ],
   "source": [
    "final_model_1.fit(X_train, y_train, epochs=10, validation_data=(X_test, y_test), batch_size=32)"
   ]
  },
  {
   "cell_type": "code",
   "execution_count": 9,
   "id": "1170c2c1",
   "metadata": {},
   "outputs": [],
   "source": [
    "final_model_1.save(\"model.h5\")"
   ]
  },
  {
   "cell_type": "code",
   "execution_count": 10,
   "id": "b140cd64",
   "metadata": {},
   "outputs": [],
   "source": [
    "from keras.models import load_model\n",
    "import tensorflow as tf"
   ]
  },
  {
   "cell_type": "code",
   "execution_count": 11,
   "id": "594f0d9a",
   "metadata": {},
   "outputs": [],
   "source": [
    "mod = load_model(\"model.h5\")"
   ]
  },
  {
   "cell_type": "code",
   "execution_count": 12,
   "id": "5bd44663",
   "metadata": {},
   "outputs": [],
   "source": [
    "converter = tf.lite.TFLiteConverter.from_keras_model(mod)"
   ]
  },
  {
   "cell_type": "code",
   "execution_count": 13,
   "id": "88df31fb",
   "metadata": {},
   "outputs": [
    {
     "name": "stdout",
     "output_type": "stream",
     "text": [
      "WARNING:tensorflow:From C:\\Users\\Nikita\\anaconda3\\envs\\tensorflow\\lib\\site-packages\\tensorflow\\python\\training\\tracking\\tracking.py:111: Model.state_updates (from tensorflow.python.keras.engine.training) is deprecated and will be removed in a future version.\n",
      "Instructions for updating:\n",
      "This property should not be used in TensorFlow 2.0, as updates are applied automatically.\n",
      "WARNING:tensorflow:From C:\\Users\\Nikita\\anaconda3\\envs\\tensorflow\\lib\\site-packages\\tensorflow\\python\\training\\tracking\\tracking.py:111: Layer.updates (from tensorflow.python.keras.engine.base_layer) is deprecated and will be removed in a future version.\n",
      "Instructions for updating:\n",
      "This property should not be used in TensorFlow 2.0, as updates are applied automatically.\n",
      "INFO:tensorflow:Assets written to: C:\\Users\\Nikita\\AppData\\Local\\Temp\\tmpoo8h7pbq\\assets\n"
     ]
    }
   ],
   "source": [
    "tflite_model = converter.convert()"
   ]
  },
  {
   "cell_type": "code",
   "execution_count": 14,
   "id": "67ecd665",
   "metadata": {},
   "outputs": [],
   "source": [
    "with open('model.tflite','wb') as f:\n",
    "    f.write(tflite_model)"
   ]
  },
  {
   "cell_type": "code",
   "execution_count": null,
   "id": "283f790d",
   "metadata": {},
   "outputs": [],
   "source": []
  }
 ],
 "metadata": {
  "kernelspec": {
   "display_name": "Python 3 (ipykernel)",
   "language": "python",
   "name": "python3"
  },
  "language_info": {
   "codemirror_mode": {
    "name": "ipython",
    "version": 3
   },
   "file_extension": ".py",
   "mimetype": "text/x-python",
   "name": "python",
   "nbconvert_exporter": "python",
   "pygments_lexer": "ipython3",
   "version": "3.8.13"
  }
 },
 "nbformat": 4,
 "nbformat_minor": 5
}
